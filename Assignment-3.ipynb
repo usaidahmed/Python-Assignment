{
 "cells": [
  {
   "cell_type": "markdown",
   "metadata": {},
   "source": [
    "<h3>Q no 1:  Write a python program to find number of occurrences of given number in a list with out using built-in methods</h3>\n",
    "<h4>**1 generate a list of some random num which is repeated again and again</h4>\n",
    "<h4>**2 take user input any number</h4>\n",
    "<h4>**3 find the number of occurrences of that num in your list</h4>\n",
    "<h4>**4 print some message to user with that result</h4>"
   ]
  },
  {
   "cell_type": "code",
   "execution_count": 1,
   "metadata": {},
   "outputs": [
    {
     "name": "stdout",
     "output_type": "stream",
     "text": [
      "Enter Whole Number :4\n"
     ]
    }
   ],
   "source": [
    "Random_num=[1,4,4,2,1,4,1,3]\n",
    "User_Input=int(input(\"Enter Whole Number :\"))\n",
    "Occurence=0"
   ]
  },
  {
   "cell_type": "code",
   "execution_count": 2,
   "metadata": {},
   "outputs": [
    {
     "name": "stdout",
     "output_type": "stream",
     "text": [
      "Occurence 3\n"
     ]
    }
   ],
   "source": [
    "for i in Random_num:\n",
    "    if(User_Input == i):\n",
    "        Occurence+= 1\n",
    "print (\"Occurence\",Occurence)"
   ]
  },
  {
   "cell_type": "markdown",
   "metadata": {},
   "source": [
    "<h3>Q no 2:   [\"www.zframez.com\", \"www.wikipedia.org\", \"www.asp.net\", \"www.abcd.in\"]\n",
    "<br/><br/><br/><br/><br/>\n",
    "Write a python program to print website suffixes (com , org , net ,in) from this list\n",
    "\n",
    "Hint : Use split() method to perform this task\n",
    "</h3>\n"
   ]
  },
  {
   "cell_type": "code",
   "execution_count": 3,
   "metadata": {},
   "outputs": [],
   "source": [
    "list= [\"WWW.zframez.com\",\"WWW.wikipedia.org\",\"WWW.abcd.in\"]"
   ]
  },
  {
   "cell_type": "code",
   "execution_count": 4,
   "metadata": {},
   "outputs": [
    {
     "name": "stdout",
     "output_type": "stream",
     "text": [
      "com\n",
      "org\n",
      "in\n"
     ]
    }
   ],
   "source": [
    "for name in list:\n",
    "    Suffix= name.split(\".\")\n",
    "    print(Suffix[-1])"
   ]
  },
  {
   "cell_type": "markdown",
   "metadata": {},
   "source": [
    "<h3> Q no 3 : Write a program which can compute the factorial of a given numbers.</h3>\n",
    "<br/>\n",
    "<br/>\n",
    "<h4>**1 first take user input any number</h4>\n",
    "<h4>**2 calculate factorial of that input and then print the result to user</h4>"
   ]
  },
  {
   "cell_type": "code",
   "execution_count": 5,
   "metadata": {},
   "outputs": [
    {
     "name": "stdout",
     "output_type": "stream",
     "text": [
      "Enter the Value: 8\n"
     ]
    }
   ],
   "source": [
    "Value = int(input(\"Enter the Value: \"))\n",
    "Loop_Value = Value - 1"
   ]
  },
  {
   "cell_type": "code",
   "execution_count": 6,
   "metadata": {},
   "outputs": [],
   "source": [
    "if(Value == 0):\n",
    "    New_Value = 1\n",
    "\n",
    "elif(Value < 0):\n",
    "    New_Value = print(\"Enter a positive value\")\n",
    "    \n",
    "\n",
    "else:\n",
    "    for i in range(Loop_Value, 0 , -1):\n",
    "        New_Value = Value * i\n",
    "        Value = New_Value\n"
   ]
  },
  {
   "cell_type": "code",
   "execution_count": 8,
   "metadata": {},
   "outputs": [
    {
     "name": "stdout",
     "output_type": "stream",
     "text": [
      "40320\n"
     ]
    }
   ],
   "source": [
    "print(New_Value)"
   ]
  },
  {
   "cell_type": "code",
   "execution_count": null,
   "metadata": {},
   "outputs": [],
   "source": []
  },
  {
   "cell_type": "markdown",
   "metadata": {},
   "source": [
    "<h3>Q 4 (a) :  If you could invite anyone, living or deceased, to dinner, who\n",
    "would you invite? Make a list that includes at least three people you’d like to\n",
    "invite to dinner. Then use your list to print a message to each person, inviting\n",
    "them to dinner.</h3>"
   ]
  },
  {
   "cell_type": "code",
   "execution_count": 9,
   "metadata": {},
   "outputs": [
    {
     "name": "stdout",
     "output_type": "stream",
     "text": [
      "Guest No: 1\n",
      "Enter name of Invites :Usaid\n",
      "Guest No: 2\n",
      "Enter name of Invites :Saad\n",
      "Guest No: 3\n",
      "Enter name of Invites :Bilal\n"
     ]
    }
   ],
   "source": [
    "Invites=[]\n",
    "\n",
    "for i in range(3):\n",
    "    print(\"Guest No:\",i + 1)\n",
    "    \n",
    "    Invites.append(input(\"Enter name of Invites :\"))"
   ]
  },
  {
   "cell_type": "code",
   "execution_count": 10,
   "metadata": {},
   "outputs": [
    {
     "name": "stdout",
     "output_type": "stream",
     "text": [
      "Hi! Usaid I Am Inviting You For Dinner Tonight At My Home.\n",
      "Hi! Saad I Am Inviting You For Dinner Tonight At My Home.\n",
      "Hi! Bilal I Am Inviting You For Dinner Tonight At My Home.\n"
     ]
    }
   ],
   "source": [
    "for i in Invites:\n",
    "    print(\"Hi!\",i,\"I Am Inviting You For Dinner Tonight At My Home.\")"
   ]
  },
  {
   "cell_type": "code",
   "execution_count": 11,
   "metadata": {},
   "outputs": [
    {
     "name": "stdout",
     "output_type": "stream",
     "text": [
      "Enter the person who will not arrive :Saad\n",
      "Saad Is unable to arrive for dinner\n"
     ]
    }
   ],
   "source": [
    "Not_Arriving=input(\"Enter the person who will not arrive :\")\n",
    "print(Not_Arriving,\"Is unable to arrive for dinner\")"
   ]
  },
  {
   "cell_type": "markdown",
   "metadata": {},
   "source": [
    "<h3>Q 4 (b) : You just heard that one of your guests can’t make the\n",
    "dinner, so you need to send out a new set of invitations. You’ll have to think of\n",
    "someone else to invite.<br/></br><br/>\n",
    "•\t Start with your program from Q 4 (a). Add a print statement at the\n",
    "end of your program stating the name of the guest who can’t make it.<br/></br><br/>\n",
    "•\t Modify your list, replacing the name of the guest who can’t make it with\n",
    "the name of the new person you are inviting.<br/></br><br/>\n",
    "•\t Print a second set of invitation messages, one for each person who is still\n",
    "in your list.<br/></br><br/></h3>"
   ]
  },
  {
   "cell_type": "code",
   "execution_count": 12,
   "metadata": {},
   "outputs": [
    {
     "name": "stdout",
     "output_type": "stream",
     "text": [
      "New Guest :Maaz\n"
     ]
    }
   ],
   "source": [
    "for i in range (0,len(Invites)):\n",
    "    \n",
    "    if (Invites[i] == Not_Arriving):\n",
    "        \n",
    "        Invites[i]=input(\"New Guest :\")\n",
    "    "
   ]
  },
  {
   "cell_type": "code",
   "execution_count": 13,
   "metadata": {},
   "outputs": [
    {
     "name": "stdout",
     "output_type": "stream",
     "text": [
      "Hi! Usaid I am Inviting you For Dinner Tonight At My Home.\n",
      "Hi! Maaz I am Inviting you For Dinner Tonight At My Home.\n",
      "Hi! Bilal I am Inviting you For Dinner Tonight At My Home.\n"
     ]
    }
   ],
   "source": [
    "for i in Invites:\n",
    "    print(\"Hi!\",i,\"I am Inviting you For Dinner Tonight At My Home.\")"
   ]
  },
  {
   "cell_type": "code",
   "execution_count": null,
   "metadata": {},
   "outputs": [],
   "source": []
  },
  {
   "cell_type": "markdown",
   "metadata": {},
   "source": [
    "<h3>Q 4 (c) : You just found a bigger dinner table, so now more space is\n",
    "available. Think of three more guests to invite to dinner.<br/></br><br/>\n",
    "•\t Start with your program from Q 4 (a) and (b) Add a print\n",
    "statement to the end of your program informing people that you found a\n",
    "bigger dinner table.<br/></br><br/>\n",
    "•\t Use insert() to add one new guest to the beginning of your list.<br/></br><br/>\n",
    "•\t Use insert() to add one new guest to the middle of your list.<br/></br><br/>\n",
    "•\t Use append() to add one new guest to the end of your list.<br/></br><br/>\n",
    "•\t Print a new set of invitation messages, one for each person in your list.<br/></br><br/></h3>"
   ]
  },
  {
   "cell_type": "code",
   "execution_count": 14,
   "metadata": {},
   "outputs": [
    {
     "name": "stdout",
     "output_type": "stream",
     "text": [
      "Add one more Guest :Arsal\n",
      "Add one more Guest :Kamran\n",
      "Add one more Guest :Abdul Hadi\n"
     ]
    }
   ],
   "source": [
    "Guest=input(\"Add one more Guest :\")\n",
    "if Guest:\n",
    "    Invites.insert(0,Guest)\n",
    "\n",
    "Guest=input(\"Add one more Guest :\")\n",
    "if Guest:\n",
    "    Invites.insert(2,Guest)\n",
    "\n",
    "Guest=input(\"Add one more Guest :\")\n",
    "if Guest:\n",
    "    Invites.append(Guest)"
   ]
  },
  {
   "cell_type": "code",
   "execution_count": 15,
   "metadata": {},
   "outputs": [
    {
     "name": "stdout",
     "output_type": "stream",
     "text": [
      "['Arsal', 'Usaid', 'Kamran', 'Maaz', 'Bilal', 'Abdul Hadi']\n"
     ]
    }
   ],
   "source": [
    "print(Invites)"
   ]
  },
  {
   "cell_type": "code",
   "execution_count": 16,
   "metadata": {},
   "outputs": [
    {
     "name": "stdout",
     "output_type": "stream",
     "text": [
      "Hi! Arsal I Am Inviting you For Dinner Tonight At My Home.\n",
      "Hi! Usaid I Am Inviting you For Dinner Tonight At My Home.\n",
      "Hi! Kamran I Am Inviting you For Dinner Tonight At My Home.\n",
      "Hi! Maaz I Am Inviting you For Dinner Tonight At My Home.\n",
      "Hi! Bilal I Am Inviting you For Dinner Tonight At My Home.\n",
      "Hi! Abdul Hadi I Am Inviting you For Dinner Tonight At My Home.\n"
     ]
    }
   ],
   "source": [
    "for i in Invites:\n",
    "    print(\"Hi!\",i,\"I Am Inviting you For Dinner Tonight At My Home.\")\n"
   ]
  },
  {
   "cell_type": "markdown",
   "metadata": {},
   "source": [
    "<h5> Q 5 : Here you have some data in variable below, your task is to make a list of specific word Surah then print the list and length of list</h5>\n"
   ]
  },
  {
   "cell_type": "code",
   "execution_count": 17,
   "metadata": {},
   "outputs": [],
   "source": [
    "Data=\"Sura I Who Believe In The UnSeen, Sura Are SteadFast In Prayer, And Spend Sura Out Of What We Have Provided For Them;\"\n",
    "Data=Data.split(\" \")\n",
    "New_List=[]\n",
    "\n",
    "for i in Data:\n",
    "    if(i == \"Sura\"):\n",
    "        New_List.append(\"Sura\")\n"
   ]
  },
  {
   "cell_type": "code",
   "execution_count": 18,
   "metadata": {},
   "outputs": [
    {
     "name": "stdout",
     "output_type": "stream",
     "text": [
      "['Sura', 'Sura', 'Sura']\n",
      "No: of times Sura Appears : 3\n"
     ]
    }
   ],
   "source": [
    "print(New_List)\n",
    "print(\"No: of times Sura Appears :\" ,len(New_List))"
   ]
  },
  {
   "cell_type": "markdown",
   "metadata": {},
   "source": [
    " <h3>Q no 6 : You have some name of cities in list named cities, Your task is to check whether Karachi is present in this list or not, if present print the index where the value Karachi is present</h3>"
   ]
  },
  {
   "cell_type": "code",
   "execution_count": 19,
   "metadata": {},
   "outputs": [],
   "source": [
    "Index=\"Not Present\"\n",
    "Cities=[\"Islamabad\",\"Lahore\",\"Karachi\",\"Multan\",\"Rawalpindi\",\"Faislabad\"]\n",
    "\n",
    "for i in range(0,len(Cities)):\n",
    "    if (Cities[i] == \"Karachi\"):\n",
    "       \n",
    "        Index=i\n",
    "    "
   ]
  },
  {
   "cell_type": "code",
   "execution_count": 20,
   "metadata": {},
   "outputs": [
    {
     "name": "stdout",
     "output_type": "stream",
     "text": [
      "2\n"
     ]
    }
   ],
   "source": [
    "print(Index)"
   ]
  },
  {
   "cell_type": "code",
   "execution_count": null,
   "metadata": {},
   "outputs": [],
   "source": []
  }
 ],
 "metadata": {
  "kernelspec": {
   "display_name": "Python 3",
   "language": "python",
   "name": "python3"
  },
  "language_info": {
   "codemirror_mode": {
    "name": "ipython",
    "version": 3
   },
   "file_extension": ".py",
   "mimetype": "text/x-python",
   "name": "python",
   "nbconvert_exporter": "python",
   "pygments_lexer": "ipython3",
   "version": "3.7.3"
  }
 },
 "nbformat": 4,
 "nbformat_minor": 2
}
