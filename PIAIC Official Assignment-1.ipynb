{
 "cells": [
  {
   "cell_type": "markdown",
   "metadata": {},
   "source": [
    "## 1. Calculate Area of a Circle"
   ]
  },
  {
   "cell_type": "markdown",
   "metadata": {},
   "source": [
    "#### Write a Python program which accepts the radius of a circle from the user and compute the area.\n",
    "###### Program Console Sample Output 1:\n",
    "###### Input Radius: 0.5\n",
    "###### Area of Circle with radius 0.5 is 0.7853981634"
   ]
  },
  {
   "cell_type": "code",
   "execution_count": 26,
   "metadata": {},
   "outputs": [
    {
     "name": "stdout",
     "output_type": "stream",
     "text": [
      "Enter Radius: 4.2\n",
      "The Area of the Circle is 55.3896 cm*2 According to the Radius is 4.2 m\n"
     ]
    }
   ],
   "source": [
    "User_Input=float(input(\"Enter Radius: \")) #Formula for Area of Circle is A=3.14*(r)**2 and here (r) is the User_Input\n",
    "# According to Formula:\n",
    "calculation=3.14*(User_Input**2)\n",
    "print(\"The Area of the Circle is\",calculation,\"cm*2\",\"According to the Radius is\",User_Input,\"m\")\n",
    "# As radius is a kind of length and as we know the SI unit of length is (m).\n",
    "# The unit for Area of Circle is usually measured in cm*2."
   ]
  },
  {
   "cell_type": "code",
   "execution_count": null,
   "metadata": {},
   "outputs": [],
   "source": []
  },
  {
   "cell_type": "code",
   "execution_count": null,
   "metadata": {},
   "outputs": [],
   "source": []
  },
  {
   "cell_type": "markdown",
   "metadata": {},
   "source": [
    "## 2. Check Number either positive, negative or zero"
   ]
  },
  {
   "cell_type": "markdown",
   "metadata": {},
   "source": [
    "#### Write a Python program to check if a number is positive, negative or zero\n",
    "###### Program Console Sample Output 1:\n",
    "###### Enter Number: -1\n",
    "##### Negative Number Entered\n",
    "###### Program Console Sample Output 2:\n",
    "##### Integer: 3\n",
    "##### Positive Number Entered\n",
    "###### Program Console Sample Output 3:\n",
    "##### Integer: 0\n",
    "###### Zero Entered"
   ]
  },
  {
   "cell_type": "code",
   "execution_count": 27,
   "metadata": {},
   "outputs": [
    {
     "name": "stdout",
     "output_type": "stream",
     "text": [
      "Enter any Integer: 6\n",
      "It is an Positive Integer\n"
     ]
    }
   ],
   "source": [
    "Value=int(input(\"Enter any Integer: \"))\n",
    "if Value>0:\n",
    "        print(\"It is an Positive Integer\")\n",
    "elif Value<0:\n",
    "        print(\"It is an Negative Integer\")\n",
    "else:\n",
    "        print(\"Zero Entered\")"
   ]
  },
  {
   "cell_type": "code",
   "execution_count": 28,
   "metadata": {},
   "outputs": [
    {
     "name": "stdout",
     "output_type": "stream",
     "text": [
      "Enter any Integer: -7\n",
      "It is an Negative Integer\n"
     ]
    }
   ],
   "source": [
    "Value=int(input(\"Enter any Integer: \"))\n",
    "if Value>0:\n",
    "        print(\"It is an Positive Integer\")\n",
    "elif Value<0:\n",
    "        print(\"It is an Negative Integer\")\n",
    "else:\n",
    "        print(\"Zero Entered\")"
   ]
  },
  {
   "cell_type": "code",
   "execution_count": 29,
   "metadata": {},
   "outputs": [
    {
     "name": "stdout",
     "output_type": "stream",
     "text": [
      "Enter any Integer: 0\n",
      "Zero Entered\n"
     ]
    }
   ],
   "source": [
    "Value=int(input(\"Enter any Integer: \"))\n",
    "if Value>0:\n",
    "        print(\"It is an Positive Integer\")\n",
    "elif Value<0:\n",
    "        print(\"It is an Negative Integer\")\n",
    "else:\n",
    "        print(\"Zero Entered\")"
   ]
  },
  {
   "cell_type": "code",
   "execution_count": null,
   "metadata": {},
   "outputs": [],
   "source": []
  },
  {
   "cell_type": "markdown",
   "metadata": {},
   "source": [
    "## 3. Divisibility Check of two numbers"
   ]
  },
  {
   "cell_type": "markdown",
   "metadata": {},
   "source": [
    "#### Write a Python program to check whether a number is completely divisible by another number. Accept two integer values form the user\n",
    "##### Program Console Sample Output 1:\n",
    "###### Enter numerator: 4\n",
    "###### Enter Denominator: 2\n",
    "##### Number 4 is Completely divisible by 2\n",
    "###### Program Console Sample Output 2:\n",
    "##### Enter numerator: 7\n",
    "\n",
    "##### Enter Denominator: 4\n",
    "###### Number 7 is not Completely divisible by 4"
   ]
  },
  {
   "cell_type": "code",
   "execution_count": 31,
   "metadata": {},
   "outputs": [
    {
     "name": "stdout",
     "output_type": "stream",
     "text": [
      "Enter Numerator:8\n",
      "Enter Denominator:4\n",
      " The Specified Numerator 8 is Divisible by Specified Denominator 4\n"
     ]
    }
   ],
   "source": [
    "Value = int(input(\"Enter Numerator:\"))\n",
    "Value_2 = int(input(\"Enter Denominator:\"))\n",
    "\n",
    "if Value % Value_2 == 0:\n",
    "    print(\" The Specified Numerator\",Value,\"is Divisible by Specified Denominator\",Value_2)\n",
    "\n",
    "else:\n",
    "      print(\"The Specified Numerator\",Value,\"is not Divisible by Specified Denominator\",Value_2)"
   ]
  },
  {
   "cell_type": "code",
   "execution_count": 32,
   "metadata": {},
   "outputs": [
    {
     "name": "stdout",
     "output_type": "stream",
     "text": [
      "Enter Numerator: 9\n",
      "Enter Denominator: 5\n",
      "The Specified Numerator 9 is not Divisible by Specified Denominator 5\n"
     ]
    }
   ],
   "source": [
    "Value = int(input(\"Enter Numerator: \"))\n",
    "Value_2 = int(input(\"Enter Denominator: \"))\n",
    "\n",
    "if Value % Value_2 == 0:\n",
    "    print(\" The Specified Numerator\",Value,\"is Divisible by Specified Denominator\",Value_2)\n",
    "\n",
    "else:\n",
    "      print(\"The Specified Numerator\",Value,\"is not Divisible by Specified Denominator\",Value_2)"
   ]
  },
  {
   "cell_type": "code",
   "execution_count": null,
   "metadata": {},
   "outputs": [],
   "source": []
  },
  {
   "cell_type": "code",
   "execution_count": null,
   "metadata": {},
   "outputs": [],
   "source": []
  },
  {
   "cell_type": "code",
   "execution_count": null,
   "metadata": {},
   "outputs": [],
   "source": []
  },
  {
   "cell_type": "code",
   "execution_count": null,
   "metadata": {},
   "outputs": [],
   "source": []
  },
  {
   "cell_type": "markdown",
   "metadata": {},
   "source": [
    "## 4. Calculate Volume of a sphere"
   ]
  },
  {
   "cell_type": "markdown",
   "metadata": {},
   "source": [
    "##### Write a Python program to get the volume of a sphere, please take the radius as input from user"
   ]
  },
  {
   "cell_type": "markdown",
   "metadata": {},
   "source": [
    "##### Program Console Output:\n",
    "##### Enter Radius of Sphere: 1\n",
    "###### Volume of the Sphere with Radius 1 is 4.18"
   ]
  },
  {
   "cell_type": "code",
   "execution_count": 33,
   "metadata": {},
   "outputs": [
    {
     "name": "stdout",
     "output_type": "stream",
     "text": [
      "Enter Radius: 5.1\n",
      "The volume of sphere is 99.48825 With the Radius of 5.1 \n"
     ]
    }
   ],
   "source": [
    "User_Input=float(input(\"Enter Radius: \")) #Formula for calcutaing valume of sphere is V = 3/4*(3.14*(r)**3)\n",
    "#Here User_Input is the Radius.\n",
    "# According to Formula:\n",
    "calculation=(3/4*(User_Input)**3)\n",
    "print (\"The volume of sphere is\",calculation,\"With the Radius of\",User_Input,\"\")\n",
    "# Volume is measured in (in*3 ,ft*3, cm3, m*3) depending on the unit of Radius.\n",
    "# (This rule is applicable for volume of sphere only.)\n",
    " "
   ]
  },
  {
   "cell_type": "code",
   "execution_count": null,
   "metadata": {},
   "outputs": [],
   "source": []
  },
  {
   "cell_type": "code",
   "execution_count": null,
   "metadata": {},
   "outputs": [],
   "source": []
  },
  {
   "cell_type": "code",
   "execution_count": null,
   "metadata": {},
   "outputs": [],
   "source": []
  },
  {
   "cell_type": "code",
   "execution_count": null,
   "metadata": {},
   "outputs": [],
   "source": []
  },
  {
   "cell_type": "markdown",
   "metadata": {},
   "source": [
    "## 5. Copy string n times\n",
    "#### Write a Python program to get a string which is n (non-negative integer) copies of a given string.\n",
    "##### Program Console Output:\n",
    "##### Enter String: Hi\n",
    "###### How many copies of String you need: 4\n",
    "###### 4 Copies of Hi are HiHiHiHi"
   ]
  },
  {
   "cell_type": "code",
   "execution_count": 34,
   "metadata": {},
   "outputs": [
    {
     "name": "stdout",
     "output_type": "stream",
     "text": [
      "Enter String:  #Oscar98\n",
      "Copies of Strings: 7\n",
      "7 Copies of  #Oscar98 are:  #Oscar98 #Oscar98 #Oscar98 #Oscar98 #Oscar98 #Oscar98 #Oscar98\n"
     ]
    }
   ],
   "source": [
    "String=input(\"Enter String: \")\n",
    "Value=int(input(\"Copies of Strings: \"))\n",
    "Required=String*Value\n",
    "print(Value,\"Copies of\",String,\"are:\",Required)\n"
   ]
  },
  {
   "cell_type": "code",
   "execution_count": null,
   "metadata": {},
   "outputs": [],
   "source": []
  },
  {
   "cell_type": "code",
   "execution_count": null,
   "metadata": {},
   "outputs": [],
   "source": []
  },
  {
   "cell_type": "code",
   "execution_count": null,
   "metadata": {},
   "outputs": [],
   "source": []
  },
  {
   "cell_type": "code",
   "execution_count": null,
   "metadata": {},
   "outputs": [],
   "source": []
  },
  {
   "cell_type": "markdown",
   "metadata": {},
   "source": [
    "## 6. Check if number is Even or Odd\n",
    "### Write a Python program to find whether a given number (accept from the user) is even or odd, print out an appropriate message to the user\n",
    "#### Program Console Output 1:\n",
    "##### Enter Number: 4\n",
    "###### 4 is Even\n",
    "#### Program Console Output 2:\n",
    "##### Enter Number: 9\n",
    "###### 9 is Odd"
   ]
  },
  {
   "cell_type": "code",
   "execution_count": 35,
   "metadata": {},
   "outputs": [
    {
     "name": "stdout",
     "output_type": "stream",
     "text": [
      "Enter Integer: 6\n",
      "Dear User, the number you have entered is an Even Number.\n"
     ]
    }
   ],
   "source": [
    "User_Input=int(input(\"Enter Integer: \"))\n",
    "if User_Input%2==0:\n",
    "    print(\"Dear User, the number you have entered is an Even Number.\")\n",
    "else:\n",
    "    print(\"Dear User, the number you have entered is an odd Number.\")"
   ]
  },
  {
   "cell_type": "code",
   "execution_count": 36,
   "metadata": {},
   "outputs": [
    {
     "name": "stdout",
     "output_type": "stream",
     "text": [
      "Enter Integer: 9\n",
      "Dear User, the number you have entered is an odd Number.\n"
     ]
    }
   ],
   "source": [
    "User_Input=int(input(\"Enter Integer: \"))\n",
    "if User_Input%2==0:\n",
    "    print(\"Dear User, the number you have entered is an Even Number.\")\n",
    "else:\n",
    "    print(\"Dear User, the number you have entered is an odd Number.\")"
   ]
  },
  {
   "cell_type": "code",
   "execution_count": null,
   "metadata": {},
   "outputs": [],
   "source": []
  },
  {
   "cell_type": "code",
   "execution_count": null,
   "metadata": {},
   "outputs": [],
   "source": []
  },
  {
   "cell_type": "code",
   "execution_count": null,
   "metadata": {},
   "outputs": [],
   "source": []
  },
  {
   "cell_type": "markdown",
   "metadata": {},
   "source": [
    "## 7. Vowel Tester\n",
    "### Write a Python program to test whether a passed letter is a vowel or not\n",
    "#### Program Console Output 1:\n",
    "##### Enter a character: A\n",
    "###### Letter A is Vowel\n",
    "#### Program Console Output 2:\n",
    "##### Enter a character: e\n",
    "###### Letter e is Vowel\n",
    "#### Program Console Output 2:\n",
    "##### Enter a character: N\n",
    "###### Letter N is not Vowel"
   ]
  },
  {
   "cell_type": "code",
   "execution_count": 37,
   "metadata": {},
   "outputs": [
    {
     "name": "stdout",
     "output_type": "stream",
     "text": [
      "Enter Letter: a\n",
      "The Letter a is a Vowel.\n"
     ]
    }
   ],
   "source": [
    "User_Input=input(\"Enter Letter: \")\n",
    "if (User_Input == \"a\" or User_Input == \"e\" or User_Input == \"i\" or User_Input == \"o\" or User_Input == \"u\"):\n",
    "    print(\"The Letter\",User_Input,\"is a Vowel.\")\n",
    "else:\n",
    "    print(\"Dear User, the letter you have entered is not a vowel.\")"
   ]
  },
  {
   "cell_type": "code",
   "execution_count": 38,
   "metadata": {},
   "outputs": [
    {
     "name": "stdout",
     "output_type": "stream",
     "text": [
      "Enter Letter: e\n",
      "The Letter e is a Vowel.\n"
     ]
    }
   ],
   "source": [
    "User_Input=input(\"Enter Letter: \")\n",
    "if (User_Input == \"a\" or User_Input == \"e\" or User_Input == \"i\" or User_Input == \"o\" or User_Input == \"u\"):\n",
    "    print(\"The Letter\",User_Input,\"is a Vowel.\")\n",
    "else:\n",
    "    print(\"Dear User, the letter you have entered is not a vowel.\")"
   ]
  },
  {
   "cell_type": "code",
   "execution_count": 39,
   "metadata": {},
   "outputs": [
    {
     "name": "stdout",
     "output_type": "stream",
     "text": [
      "Enter Letter: n\n",
      "Dear User, the letter you have entered is not a vowel.\n"
     ]
    }
   ],
   "source": [
    "User_Input=input(\"Enter Letter: \")\n",
    "if (User_Input == \"a\" or User_Input == \"e\" or User_Input == \"i\" or User_Input == \"o\" or User_Input == \"u\"):\n",
    "    print(\"The Letter\",User_Input,\"is a Vowel.\")\n",
    "else:\n",
    "    print(\"Dear User, the letter you have entered is not a vowel.\")"
   ]
  },
  {
   "cell_type": "code",
   "execution_count": null,
   "metadata": {},
   "outputs": [],
   "source": []
  },
  {
   "cell_type": "markdown",
   "metadata": {},
   "source": [
    "## 8. Triangle area\n",
    "### Write a Python program that will accept the base and height of a triangle and compute the area\n",
    "###### Reference:\n",
    "https://www.mathgoodies.com/lessons/vol1/area_triangle"
   ]
  },
  {
   "cell_type": "code",
   "execution_count": 40,
   "metadata": {},
   "outputs": [
    {
     "name": "stdout",
     "output_type": "stream",
     "text": [
      "Enter the base of Triangle: 8\n",
      "Enter the height of Triangle: 6\n",
      "The Area of an Triangle is 24.0 cm*2 calculated by the Specified base 8 cm and height 6 cm by the user.\n"
     ]
    }
   ],
   "source": [
    "User_Input=int(input(\"Enter the base of Triangle: \" ))\n",
    "User_Input_2=int(input(\"Enter the height of Triangle: \"))\n",
    "#Formula for calculating Area of Triangle is A = h*b/2.\n",
    "#According to Formula:\n",
    "calculation=User_Input*User_Input_2/2\n",
    "print(\"The Area of an Triangle is\",calculation,\"cm*2\",\"calculated by the Specified base\",User_Input,\"cm\", \"and height\",User_Input_2,\"cm\", \"by the user.\")\n",
    "#Area is usually measured in cm*2.\n",
    "#Base and height are measured in centimeters."
   ]
  },
  {
   "cell_type": "code",
   "execution_count": null,
   "metadata": {},
   "outputs": [],
   "source": []
  },
  {
   "cell_type": "code",
   "execution_count": null,
   "metadata": {},
   "outputs": [],
   "source": []
  },
  {
   "cell_type": "code",
   "execution_count": null,
   "metadata": {},
   "outputs": [],
   "source": []
  },
  {
   "cell_type": "markdown",
   "metadata": {},
   "source": [
    "## 9. Calculate Interest\n",
    "### Write a Python program to compute the future value of a specified principal amount, rate of interest, and a number of years\n",
    "#### Program Console Sample 1:\n",
    "##### Please enter principal amount: 10000\n",
    "###### Please Enter Rate of interest in %: 0.1\n",
    "###### Enter number of years for investment: 5\n",
    "###### After 5 years your principal amount 10000 over an interest rate of 0.1 % will be 16105.1"
   ]
  },
  {
   "cell_type": "code",
   "execution_count": 42,
   "metadata": {},
   "outputs": [
    {
     "name": "stdout",
     "output_type": "stream",
     "text": [
      "Enter Principal Amount: 700\n",
      "Enter Rate Of Interest %: 1.2\n",
      "Enter number of years of Investment: 8\n",
      "After  8  Years Interest Rate Of  1.2  The Amount Will Be  384131.11475200026\n"
     ]
    }
   ],
   "source": [
    "User_Input=int(input(\"Enter Principal Amount: \"))\n",
    "User_Input_2=float(input(\"Enter Rate Of Interest %: \"))\n",
    "Investment_Duration=int(input(\"Enter number of years of Investment: \"))\n",
    "for i in range(Investment_Duration):\n",
    "    User_Input = User_Input * (1+User_Input_2)\n",
    "print(\"After \",Investment_Duration,\" Years Interest Rate Of \",User_Input_2,\" The Amount Will Be \",User_Input)\n",
    "                        "
   ]
  },
  {
   "cell_type": "code",
   "execution_count": null,
   "metadata": {},
   "outputs": [],
   "source": []
  },
  {
   "cell_type": "code",
   "execution_count": null,
   "metadata": {},
   "outputs": [],
   "source": []
  },
  {
   "cell_type": "code",
   "execution_count": null,
   "metadata": {},
   "outputs": [],
   "source": []
  },
  {
   "cell_type": "code",
   "execution_count": null,
   "metadata": {},
   "outputs": [],
   "source": []
  },
  {
   "cell_type": "code",
   "execution_count": null,
   "metadata": {},
   "outputs": [],
   "source": []
  },
  {
   "cell_type": "markdown",
   "metadata": {},
   "source": [
    "## 10. Euclidean distance\n",
    "### write a Python program to compute the distance between the points (x1, y1) and (x2, y2).\n",
    "#### Program Console Sample 1:\n",
    "###### Enter Co-ordinate for x1: 2\n",
    "###### Enter Co-ordinate for x2: 4\n",
    "###### Enter Co-ordinate for y1: 4\n",
    "###### Enter Co-ordinate for y2: 4\n",
    "###### Distance between points (2, 4) and (4, 4) is 2"
   ]
  },
  {
   "cell_type": "markdown",
   "metadata": {},
   "source": [
    "###### Reference:\n",
    "https://en.wikipedia.org/wiki/Euclidean_distance"
   ]
  },
  {
   "cell_type": "code",
   "execution_count": 43,
   "metadata": {},
   "outputs": [
    {
     "name": "stdout",
     "output_type": "stream",
     "text": [
      "Enter Co-ordinate For x1: 4\n",
      "Enter Co-ordinate For x2: 6\n",
      "Enter Co-ordinate For y1: 2\n",
      "Enter Co-ordinate For y2: 8\n",
      " The Distance occuring b/w points ( 4 ,  2 ) and ( 6 ,  8 ) is : 2.8284271247461903\n"
     ]
    }
   ],
   "source": [
    "import math\n",
    "Value=int(input(\"Enter Co-ordinate For x1: \"))\n",
    "Value_2=int(input(\"Enter Co-ordinate For x2: \"))\n",
    "Value_3=int(input(\"Enter Co-ordinate For y1: \"))\n",
    "Value_4=int(input(\"Enter Co-ordinate For y2: \"))\n",
    "#Formula for calculating Euclidean distance is sqrt((x1-y1)**2+(x2-y2)**2)\n",
    "#According to the formula:\n",
    "calculation = math.sqrt( ((Value-Value_3)**2)+((Value_2-Value_4)**2) ) \n",
    "print(\" The Distance occuring b/w points (\",Value,\", \",Value_3,\") and (\",Value_2,\", \",Value_4,\") is :\",calculation)\n"
   ]
  },
  {
   "cell_type": "code",
   "execution_count": null,
   "metadata": {},
   "outputs": [],
   "source": []
  },
  {
   "cell_type": "code",
   "execution_count": null,
   "metadata": {},
   "outputs": [],
   "source": []
  },
  {
   "cell_type": "code",
   "execution_count": null,
   "metadata": {},
   "outputs": [],
   "source": []
  },
  {
   "cell_type": "markdown",
   "metadata": {},
   "source": [
    "## 11. Feet to Centimeter Converter\n",
    "### Write a Python program to convert height in feet to centimetres.\n",
    "##### Program Console Sample 1:\n",
    "###### Enter Height in Feet: 5\n",
    "###### There are 152.4 Cm in 5 ft\n",
    "###### Reference:\n",
    "https://www.rapidtables.com/convert/length/feet-to-cm.html"
   ]
  },
  {
   "cell_type": "code",
   "execution_count": 44,
   "metadata": {},
   "outputs": [
    {
     "name": "stdout",
     "output_type": "stream",
     "text": [
      "Enter height of an object in ft: 7.0\n",
      "There are  213.36  cm in  7.0 ft\n"
     ]
    }
   ],
   "source": [
    "Value= float(input('Enter height of an object in ft: '))\n",
    "Value_2 = 30.48\n",
    "#Formula for converting ft in cm is d(cm)=d(ft)x30.48\n",
    "#30.48cm is the value of 1 ft.\n",
    "#According to the formula:\n",
    "calculation= Value*Value_2\n",
    "print(\"There are \",calculation,\" cm in \",Value,\"ft\")"
   ]
  },
  {
   "cell_type": "code",
   "execution_count": null,
   "metadata": {},
   "outputs": [],
   "source": [
    "\n"
   ]
  },
  {
   "cell_type": "code",
   "execution_count": null,
   "metadata": {},
   "outputs": [],
   "source": []
  },
  {
   "cell_type": "code",
   "execution_count": null,
   "metadata": {},
   "outputs": [],
   "source": []
  },
  {
   "cell_type": "markdown",
   "metadata": {},
   "source": [
    "## 12. BMI Calculator\n",
    "### Write a Python program to calculate body mass index\n",
    "##### Program Console Sample 1:\n",
    "###### Enter Height in Cm: 180\n",
    "###### Enter Weight in Kg: 75\n",
    "###### Your BMI is 23.15"
   ]
  },
  {
   "cell_type": "code",
   "execution_count": 45,
   "metadata": {},
   "outputs": [
    {
     "name": "stdout",
     "output_type": "stream",
     "text": [
      "Enter height in cm: 200\n",
      "Enter Weight in kg: 78.4\n",
      "Your BMI is:  19.6\n"
     ]
    }
   ],
   "source": [
    "User_Input=float(input(\"Enter height in cm: \"))\n",
    "conversion=User_Input/100 #Height is converted into meter from cm as per required by formula.\n",
    "Weight=float(input(\"Enter Weight in kg: \"))\n",
    "#Formula for calculating BMI is BMI = weight(kg)/height*2(m*2)\n",
    "#According to the formula:\n",
    "calculation=Weight/(conversion*conversion)\n",
    "print(\"Your BMI is: \",calculation)\n"
   ]
  },
  {
   "cell_type": "code",
   "execution_count": null,
   "metadata": {},
   "outputs": [],
   "source": []
  },
  {
   "cell_type": "code",
   "execution_count": null,
   "metadata": {},
   "outputs": [],
   "source": []
  },
  {
   "cell_type": "markdown",
   "metadata": {},
   "source": [
    "## 13. Sum of n Positive Integers\n",
    "### Write a python program to sum of the first n positive integers\n",
    "#### Program Console Sample 1:\n",
    "###### Enter value of n: 5\n",
    "###### Sum of n Positive integers till 5 is 15"
   ]
  },
  {
   "cell_type": "code",
   "execution_count": 46,
   "metadata": {},
   "outputs": [
    {
     "name": "stdout",
     "output_type": "stream",
     "text": [
      "Enter Integer: 8\n",
      "The sum of n positive integers till 8 is 36.0\n"
     ]
    }
   ],
   "source": [
    "User_Input=int(input(\"Enter Integer: \"))\n",
    "#Formula for calculation sum of positive integers is (n*(n+1))/2\n",
    "#According to the Formula:\n",
    "calculation=(User_Input*(User_Input+1))/2\n",
    "print(\"The sum of n positive integers till\",User_Input,\"is\",calculation)"
   ]
  },
  {
   "cell_type": "code",
   "execution_count": null,
   "metadata": {},
   "outputs": [],
   "source": []
  },
  {
   "cell_type": "code",
   "execution_count": null,
   "metadata": {},
   "outputs": [],
   "source": []
  },
  {
   "cell_type": "markdown",
   "metadata": {},
   "source": [
    "## 14. Digits Sum of a Number\n",
    "### Write a Python program to calculate the sum of the digits in an integer\n",
    "#### Program Console Sample 1:\n",
    "##### Enter a number: 15\n",
    "###### Sum of 1 + 5 is 6\n",
    "#### Program Console Sample 2:\n",
    "##### Enter a number: 1234\n",
    "###### Sum of 1 + 2 + 3 + 4 is 10"
   ]
  },
  {
   "cell_type": "code",
   "execution_count": 48,
   "metadata": {},
   "outputs": [
    {
     "name": "stdout",
     "output_type": "stream",
     "text": [
      "Enter any Integer: 846244977564\n",
      "The Sum of 66\n"
     ]
    }
   ],
   "source": [
    "User_Input=map(int,str(input(\"Enter any Integer: \")))\n",
    "print(\"The Sum of\",sum(User_Input))"
   ]
  },
  {
   "cell_type": "code",
   "execution_count": null,
   "metadata": {},
   "outputs": [],
   "source": []
  },
  {
   "cell_type": "code",
   "execution_count": null,
   "metadata": {},
   "outputs": [],
   "source": []
  },
  {
   "cell_type": "code",
   "execution_count": null,
   "metadata": {},
   "outputs": [],
   "source": []
  },
  {
   "cell_type": "code",
   "execution_count": null,
   "metadata": {},
   "outputs": [],
   "source": []
  },
  {
   "cell_type": "code",
   "execution_count": null,
   "metadata": {},
   "outputs": [],
   "source": []
  },
  {
   "cell_type": "code",
   "execution_count": null,
   "metadata": {},
   "outputs": [],
   "source": []
  },
  {
   "cell_type": "code",
   "execution_count": null,
   "metadata": {},
   "outputs": [],
   "source": []
  }
 ],
 "metadata": {
  "kernelspec": {
   "display_name": "Python 3",
   "language": "python",
   "name": "python3"
  },
  "language_info": {
   "codemirror_mode": {
    "name": "ipython",
    "version": 3
   },
   "file_extension": ".py",
   "mimetype": "text/x-python",
   "name": "python",
   "nbconvert_exporter": "python",
   "pygments_lexer": "ipython3",
   "version": "3.7.3"
  }
 },
 "nbformat": 4,
 "nbformat_minor": 2
}
