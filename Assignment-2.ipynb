{
 "cells": [
  {
   "cell_type": "markdown",
   "metadata": {},
   "source": [
    "# The ABC company has hired you as an intern on the coding team that creates e-commerce applications.  \n",
    "You must write a script that asks the user for a value. The value must be used as a whole number in a calculation, even if the user enters a decimal value. \n",
    "\n",
    "You need to write the code to meet the requirements."
   ]
  },
  {
   "cell_type": "code",
   "execution_count": 1,
   "metadata": {},
   "outputs": [
    {
     "name": "stdout",
     "output_type": "stream",
     "text": [
      "Enter no of itmes present in the shopping cart:8.0\n",
      "8.0\n"
     ]
    }
   ],
   "source": [
    "Items=float(input(\"Enter no of itmes present in the shopping cart:\"))\n",
    "print(Items)"
   ]
  },
  {
   "cell_type": "code",
   "execution_count": 2,
   "metadata": {},
   "outputs": [
    {
     "name": "stdout",
     "output_type": "stream",
     "text": [
      "Thank You for Shopping 8 Items From ABC Have a Good Day!\n"
     ]
    }
   ],
   "source": [
    "print (\"Thank You for Shopping\",int(Items),\"Items From ABC Have a Good Day!\")"
   ]
  },
  {
   "cell_type": "markdown",
   "metadata": {},
   "source": [
    "# You are creating a Python program that shows a congratulation message to employees on their service anniversary.\n",
    "You need to calculate the number of years of service and print a congratulatory message. You should take the inputs from the users where necessary"
   ]
  },
  {
   "cell_type": "code",
   "execution_count": 3,
   "metadata": {},
   "outputs": [
    {
     "name": "stdout",
     "output_type": "stream",
     "text": [
      "Enter in which year you have started your Job ?: 2000\n"
     ]
    }
   ],
   "source": [
    "Employed_Year=int(input(\"Enter in which year you have started your Job ?: \"))\n"
   ]
  },
  {
   "cell_type": "code",
   "execution_count": 4,
   "metadata": {},
   "outputs": [
    {
     "name": "stdout",
     "output_type": "stream",
     "text": [
      "Enter in which you will Retire ?: 2060\n"
     ]
    }
   ],
   "source": [
    "Retirement_Year=int(input(\"Enter in which you will Retire ?: \"))"
   ]
  },
  {
   "cell_type": "code",
   "execution_count": 5,
   "metadata": {},
   "outputs": [
    {
     "name": "stdout",
     "output_type": "stream",
     "text": [
      "Congratulations! For serving 60 valuable years in our company\n"
     ]
    }
   ],
   "source": [
    "print(\"Congratulations! For serving\",Retirement_Year-Employed_Year,\"valuable years in our company\")"
   ]
  },
  {
   "cell_type": "markdown",
   "metadata": {},
   "source": [
    "# Write a Python program to convert temperatures  from fahrenheit to celsius, \n",
    "#step 1: take \"fahrenheit Temperature\" from user in integer data type\n",
    "#step 2: apply formula that is       (  C = (5/9) * (fahrenheit_temperature - 32)  )\n",
    "#step 3: print step 2. "
   ]
  },
  {
   "cell_type": "code",
   "execution_count": 6,
   "metadata": {},
   "outputs": [
    {
     "name": "stdout",
     "output_type": "stream",
     "text": [
      "Enter Temperature in Farenheight:70\n"
     ]
    }
   ],
   "source": [
    "Farenheight_Temperature=int(input(\"Enter Temperature in Farenheight:\"))"
   ]
  },
  {
   "cell_type": "code",
   "execution_count": 7,
   "metadata": {},
   "outputs": [],
   "source": [
    "Celcius_Temperature=((5/9)*(Farenheight_Temperature-32))"
   ]
  },
  {
   "cell_type": "code",
   "execution_count": 8,
   "metadata": {},
   "outputs": [
    {
     "name": "stdout",
     "output_type": "stream",
     "text": [
      "Temperature in Celcius is 21 Centigrade\n"
     ]
    }
   ],
   "source": [
    "print (\"Temperature in Celcius is\",int(Celcius_Temperature),\"Centigrade\")"
   ]
  },
  {
   "cell_type": "markdown",
   "metadata": {},
   "source": [
    "<h3>assign a vlue to grade by checking the following conditions:: </h3>\n",
    "<h3>if % is greater then and equal to 90 and less then 100 grade is A+ </h3>\n",
    "<h3>if % is greater then and equal to 80 and less then 90 grade is A </h3>\n",
    "<h3>if % is greater then and equal to 70 and less then 80 grade is B </h3>\n",
    "<h3>if % is greater then and equal to 60 and less then 70 grade is C </h3>\n",
    "<h3>if % is less than 60 grade is FAIL </h3>\n"
   ]
  },
  {
   "cell_type": "code",
   "execution_count": 9,
   "metadata": {},
   "outputs": [],
   "source": [
    "Maths=65\n",
    "Physics=76\n",
    "Urdu=55\n",
    "Islamiat=45\n",
    "Pakistan_Studies=60"
   ]
  },
  {
   "cell_type": "code",
   "execution_count": 10,
   "metadata": {},
   "outputs": [
    {
     "name": "stdout",
     "output_type": "stream",
     "text": [
      "Obtained_Marks= 301\n",
      "Percentage= 60.199999999999996 %\n"
     ]
    }
   ],
   "source": [
    "Obtained_Marks=(Maths+Physics+Urdu+Islamiat+Pakistan_Studies)\n",
    "print(\"Obtained_Marks=\",Obtained_Marks)\n",
    "\n",
    "\n",
    "Total_Marks=500\n",
    "Percentage=(Obtained_Marks/Total_Marks)*100\n",
    "print(\"Percentage=\",Percentage,\"%\")\n"
   ]
  },
  {
   "cell_type": "code",
   "execution_count": 11,
   "metadata": {},
   "outputs": [],
   "source": [
    "if Percentage >= 90 and Percentage < 100:\n",
    "    Grade=\"A+\"\n",
    "if Percentage >= 80 and Percentage < 90:\n",
    "    Grade=\"A\"\n",
    "if Percentage >= 70 and Percentage < 80:\n",
    "    Grade=\"B\"\n",
    "if Percentage >= 60 and Percentage < 70:\n",
    "    Grade=\"C\"\n",
    "if Percentage < 60:\n",
    "    Grade=\"F\""
   ]
  },
  {
   "cell_type": "markdown",
   "metadata": {},
   "source": [
    "<h3>Print grade percentage and obtained marks</h3>"
   ]
  },
  {
   "cell_type": "code",
   "execution_count": 12,
   "metadata": {},
   "outputs": [
    {
     "name": "stdout",
     "output_type": "stream",
     "text": [
      "Grade= C Percentage= 60.199999999999996 % Obtained_Marks= 301\n"
     ]
    }
   ],
   "source": [
    "print(\"Grade=\" ,Grade, \"Percentage=\",Percentage,\"%\", \"Obtained_Marks=\", Obtained_Marks)"
   ]
  },
  {
   "cell_type": "code",
   "execution_count": null,
   "metadata": {},
   "outputs": [],
   "source": []
  },
  {
   "cell_type": "code",
   "execution_count": null,
   "metadata": {},
   "outputs": [],
   "source": []
  }
 ],
 "metadata": {
  "kernelspec": {
   "display_name": "Python 3",
   "language": "python",
   "name": "python3"
  },
  "language_info": {
   "codemirror_mode": {
    "name": "ipython",
    "version": 3
   },
   "file_extension": ".py",
   "mimetype": "text/x-python",
   "name": "python",
   "nbconvert_exporter": "python",
   "pygments_lexer": "ipython3",
   "version": "3.7.3"
  }
 },
 "nbformat": 4,
 "nbformat_minor": 2
}
