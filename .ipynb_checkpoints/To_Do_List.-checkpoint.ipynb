{
 "cells": [
  {
   "cell_type": "code",
   "execution_count": 3,
   "metadata": {},
   "outputs": [
    {
     "name": "stdout",
     "output_type": "stream",
     "text": [
      "Enter start to execute To_Do_list: start\n",
      "Enter task that suits you: Home Work\n",
      "['Home Work']\n",
      "Enter delete to remove a task from the list: delete\n",
      "Enter task that you like you remove: Home Work\n",
      "[]\n",
      "Enter finish to close the list: finish\n"
     ]
    }
   ],
   "source": [
    "To_Do_list=[]\n",
    "flag = True #flag is used in commands to modify their execution.\n",
    "\n",
    "while flag:\n",
    "    User_Input = input(\"Enter start to execute To_Do_list: \")\n",
    "    if User_Input == \"start\":\n",
    "        Append_tasks = input(\"Enter task that suits you: \")\n",
    "        To_Do_list.append(Append_tasks)\n",
    "        print(To_Do_list)\n",
    "    \n",
    "    User_Input2 = input(\"Enter delete to remove a task from the list: \")\n",
    "    if User_Input2 == \"delete\":\n",
    "        Delete_tasks = input(\"Enter task that you like you remove: \")\n",
    "        To_Do_list.remove(Delete_tasks)\n",
    "        print(To_Do_list)\n",
    "    \n",
    "    User_Input3 = input(\"Enter finish to close the list: \")\n",
    "    if User_Input3 == \"finish\":\n",
    "        flag = False # Here flag is stated false which means at this stage the modification is finished so the list will close.\n",
    "    else:\n",
    "        print(\"Your input is not acceptible\")"
   ]
  },
  {
   "cell_type": "code",
   "execution_count": null,
   "metadata": {},
   "outputs": [],
   "source": []
  },
  {
   "cell_type": "code",
   "execution_count": null,
   "metadata": {},
   "outputs": [],
   "source": []
  }
 ],
 "metadata": {
  "kernelspec": {
   "display_name": "Python 3",
   "language": "python",
   "name": "python3"
  },
  "language_info": {
   "codemirror_mode": {
    "name": "ipython",
    "version": 3
   },
   "file_extension": ".py",
   "mimetype": "text/x-python",
   "name": "python",
   "nbconvert_exporter": "python",
   "pygments_lexer": "ipython3",
   "version": "3.7.3"
  }
 },
 "nbformat": 4,
 "nbformat_minor": 2
}
